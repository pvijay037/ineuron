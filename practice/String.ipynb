{
 "cells": [
  {
   "cell_type": "code",
   "execution_count": 107,
   "id": "2ff1ee62-c43d-4f36-b1f5-ad40fd25798d",
   "metadata": {},
   "outputs": [
    {
     "name": "stdout",
     "output_type": "stream",
     "text": [
      "[8, 8, 8, 8, 8, 8, 8, 8, 7, 7, 7, 7, 7, 7, 7, 5, 5, 5, 5, 5, 3, 3, 3, 1]\n"
     ]
    }
   ],
   "source": [
    "a=[1,8,7,5,3]\n",
    "lst=[]\n",
    "for i in sorted(a,reverse=True):\n",
    "    for j in range(i):\n",
    "        lst.append(i)\n",
    "print(lst)"
   ]
  },
  {
   "cell_type": "code",
   "execution_count": 83,
   "id": "84e6e00a-ddaa-4c92-9ce8-ab960545a5af",
   "metadata": {},
   "outputs": [
    {
     "name": "stdout",
     "output_type": "stream",
     "text": [
      "[4, 14]\n"
     ]
    }
   ],
   "source": [
    "import re\n",
    "a_string=\"one two three two one\"\n",
    "substring='two'\n",
    "matches=re.finditer(substring,a_string)\n",
    "\n",
    "matches_position=[match.start() for match in matches]\n",
    "print(matches_position)"
   ]
  },
  {
   "cell_type": "code",
   "execution_count": 21,
   "id": "6f84e20b-7155-4e42-9389-e7cf0c8d6169",
   "metadata": {},
   "outputs": [],
   "source": [
    "s='vijay name is vijay name kumar  '"
   ]
  },
  {
   "cell_type": "code",
   "execution_count": 13,
   "id": "6ef59963-179b-449d-89a7-da20af85d144",
   "metadata": {},
   "outputs": [
    {
     "data": {
      "text/plain": [
       "4"
      ]
     },
     "execution_count": 13,
     "metadata": {},
     "output_type": "execute_result"
    }
   ],
   "source": [
    "s.find('y')"
   ]
  },
  {
   "cell_type": "code",
   "execution_count": 23,
   "id": "b628f118-5c93-4f6c-a5c6-d999384ac879",
   "metadata": {},
   "outputs": [
    {
     "name": "stdout",
     "output_type": "stream",
     "text": [
      "6\n",
      "7\n",
      "8\n",
      "9\n"
     ]
    }
   ],
   "source": [
    "b=s.find('name')\n",
    "for i in range(len('name')):\n",
    "    print(b+i)"
   ]
  },
  {
   "cell_type": "code",
   "execution_count": 59,
   "id": "faa16349-587d-4b65-b2f6-2cb8d0772f94",
   "metadata": {},
   "outputs": [],
   "source": [
    "a='vijay name is vijay name kumar  '\n",
    "b=a.split()"
   ]
  },
  {
   "cell_type": "code",
   "execution_count": 73,
   "id": "46a2d644-6a0c-4fe5-ad6d-a9f79944c5ea",
   "metadata": {},
   "outputs": [
    {
     "data": {
      "text/plain": [
       "'vijay name is vijay name kumar'"
      ]
     },
     "execution_count": 73,
     "metadata": {},
     "output_type": "execute_result"
    }
   ],
   "source": [
    "\" \".join(b)\n"
   ]
  },
  {
   "cell_type": "code",
   "execution_count": 83,
   "id": "b1f7a2b8-f83b-4c9c-97e2-e82efccfc8b8",
   "metadata": {},
   "outputs": [],
   "source": [
    "aa=list(reversed(b))"
   ]
  },
  {
   "cell_type": "code",
   "execution_count": 93,
   "id": "1881bdad-c99b-45bd-9703-d4c5f123a60a",
   "metadata": {},
   "outputs": [
    {
     "data": {
      "text/plain": [
       "'kumar name vijay is name vijay'"
      ]
     },
     "execution_count": 93,
     "metadata": {},
     "output_type": "execute_result"
    }
   ],
   "source": [
    "\" \".join(aa)"
   ]
  },
  {
   "cell_type": "code",
   "execution_count": 97,
   "id": "fcbca5fe-6212-469a-a013-7a9ff8e2b01c",
   "metadata": {},
   "outputs": [
    {
     "name": "stdout",
     "output_type": "stream",
     "text": [
      " \n",
      " \n",
      "r\n",
      "a\n",
      "m\n",
      "u\n",
      "k\n",
      " \n",
      "e\n",
      "m\n",
      "a\n",
      "n\n",
      " \n",
      "y\n",
      "a\n",
      "j\n",
      "i\n",
      "v\n",
      " \n",
      "s\n",
      "i\n",
      " \n",
      "e\n",
      "m\n",
      "a\n",
      "n\n",
      " \n",
      "y\n",
      "a\n",
      "j\n",
      "i\n",
      "v\n"
     ]
    }
   ],
   "source": [
    "for i in reversed(a):\n",
    "    print(i)"
   ]
  },
  {
   "cell_type": "code",
   "execution_count": 135,
   "id": "4157d6d4-046d-4c66-90d1-120e82e871d1",
   "metadata": {},
   "outputs": [],
   "source": [
    "s=\"greeting to i neuron\""
   ]
  },
  {
   "cell_type": "code",
   "execution_count": 127,
   "id": "6b70e752-307a-456e-a03b-03c95fd9cd59",
   "metadata": {},
   "outputs": [],
   "source": [
    "d=s.replace(\"gr\",'swer')"
   ]
  },
  {
   "cell_type": "code",
   "execution_count": 131,
   "id": "125d40ae-68df-4185-b1f9-bc8fa5950565",
   "metadata": {},
   "outputs": [
    {
     "data": {
      "text/plain": [
       "'swereeting to i neuron'"
      ]
     },
     "execution_count": 131,
     "metadata": {},
     "output_type": "execute_result"
    }
   ],
   "source": [
    "d"
   ]
  },
  {
   "cell_type": "code",
   "execution_count": 219,
   "id": "9b112643-0568-41da-b39a-c05585fcef6c",
   "metadata": {},
   "outputs": [
    {
     "ename": "TypeError",
     "evalue": "'str' object does not support item assignment",
     "output_type": "error",
     "traceback": [
      "\u001b[1;31m---------------------------------------------------------------------------\u001b[0m",
      "\u001b[1;31mTypeError\u001b[0m                                 Traceback (most recent call last)",
      "Cell \u001b[1;32mIn[219], line 1\u001b[0m\n\u001b[1;32m----> 1\u001b[0m s[\u001b[38;5;241m1\u001b[39m]\u001b[38;5;241m=\u001b[39m\u001b[38;5;124m'\u001b[39m\u001b[38;5;124mcans\u001b[39m\u001b[38;5;124m'\u001b[39m\n",
      "\u001b[1;31mTypeError\u001b[0m: 'str' object does not support item assignment"
     ]
    }
   ],
   "source": [
    "s[1]='cans'"
   ]
  },
  {
   "cell_type": "code",
   "execution_count": 205,
   "id": "fa95158f-de92-4b9c-ac0b-c62c13568cfb",
   "metadata": {},
   "outputs": [],
   "source": [
    "a='we all are a part of full stack'"
   ]
  },
  {
   "cell_type": "code",
   "execution_count": 162,
   "id": "16a9742e-cec9-4b46-a875-a71c58b5ca45",
   "metadata": {},
   "outputs": [
    {
     "name": "stdout",
     "output_type": "stream",
     "text": [
      "we all are a part of full stack\n",
      "5\n",
      "we ineuronll ineuronre ineuron pineuronrt of full stineuronck\n",
      "['we', 'all', 'are', 'a', 'part', 'of', 'full', 'stack']\n"
     ]
    }
   ],
   "source": [
    "print(a.lower())\n",
    "print(a.count('a'))\n",
    "print(a.replace('a','ineuron'))\n",
    "print(a.split())"
   ]
  },
  {
   "cell_type": "code",
   "execution_count": 201,
   "id": "c507d6a1-23a3-4e10-9c8c-5e60b2ed7bad",
   "metadata": {},
   "outputs": [
    {
     "name": "stdout",
     "output_type": "stream",
     "text": [
      "3\n",
      "7\n",
      "11\n",
      "14\n",
      "28\n"
     ]
    }
   ],
   "source": [
    "for i in range(len(a)):\n",
    "    if a[i]=='a':\n",
    "        print(i)"
   ]
  },
  {
   "cell_type": "code",
   "execution_count": 209,
   "id": "2c2245b7-752d-4bae-8a3f-10aa8b64f8a4",
   "metadata": {},
   "outputs": [
    {
     "name": "stdout",
     "output_type": "stream",
     "text": [
      "31\n"
     ]
    }
   ],
   "source": [
    "count=0\n",
    "for i in a:\n",
    "    count+=1\n",
    "print(count)\n",
    "    "
   ]
  },
  {
   "cell_type": "code",
   "execution_count": 217,
   "id": "f13f9888-7709-4fac-9d14-218959cd6248",
   "metadata": {},
   "outputs": [
    {
     "name": "stdout",
     "output_type": "stream",
     "text": [
      "i is  a vowel\n",
      "n not a vowel\n",
      "e is  a vowel\n",
      "u is  a vowel\n",
      "r not a vowel\n",
      "o is  a vowel\n",
      "n not a vowel\n"
     ]
    }
   ],
   "source": [
    "name='ineuron'\n",
    "vowe1s='AaEeIiOoUu'\n",
    "for i in name:\n",
    "    if i in vowe1s:\n",
    "        print(f\"{i} is  a vowel\")\n",
    "    else:\n",
    "        print(f'{i} not a vowel')\n",
    "        "
   ]
  },
  {
   "cell_type": "code",
   "execution_count": 260,
   "id": "1aef6b6d-0c2d-43bf-b9c3-72621ca63664",
   "metadata": {},
   "outputs": [
    {
     "name": "stdout",
     "output_type": "stream",
     "text": [
      "['v', 'i', 'j', 'a', 'y'] vijay\n"
     ]
    }
   ],
   "source": [
    "a=list('vijay')\n",
    "b=\"\".join(a)\n",
    "\n",
    "print(a,b)"
   ]
  },
  {
   "cell_type": "code",
   "execution_count": 221,
   "id": "a4d91f11-0f99-410b-83b5-ccbcd2b364a6",
   "metadata": {},
   "outputs": [
    {
     "data": {
      "text/plain": [
       "'hi vijay'"
      ]
     },
     "execution_count": 221,
     "metadata": {},
     "output_type": "execute_result"
    }
   ],
   "source": [
    "\"hi {}\".format('vijay')"
   ]
  },
  {
   "cell_type": "code",
   "execution_count": 250,
   "id": "39e679bc-fd56-4de2-980a-eb0771025e6f",
   "metadata": {},
   "outputs": [
    {
     "name": "stdout",
     "output_type": "stream",
     "text": [
      "y\n",
      "a\n",
      "j\n",
      "i\n",
      "v\n"
     ]
    }
   ],
   "source": [
    "s=\"vijay\"\n",
    "ch=len(s)-1\n",
    "while ch>=0:\n",
    "    print(s[ch])\n",
    "    ch-=1"
   ]
  },
  {
   "cell_type": "code",
   "execution_count": 3,
   "id": "b3f89d41-7eab-4e28-9f04-7bc0cc3eadae",
   "metadata": {},
   "outputs": [
    {
     "name": "stdout",
     "output_type": "stream",
     "text": [
      "14\n",
      "t\n",
      "l\n",
      "l\n",
      "u\n",
      "f\n",
      " \n",
      "a\n",
      " \n",
      "s\n",
      "i\n",
      " \n",
      "s\n",
      "i\n",
      "h\n"
     ]
    }
   ],
   "source": [
    "s='this is a full'\n",
    "print(len(s))\n",
    "for i in range(len(s)):\n",
    "    print(s[-i])"
   ]
  },
  {
   "cell_type": "code",
   "execution_count": 51,
   "id": "18315af6-dfc0-45a2-9fe7-68cfed2f207b",
   "metadata": {},
   "outputs": [
    {
     "name": "stdout",
     "output_type": "stream",
     "text": [
      "['v']\n",
      "['i']\n",
      "['j']\n",
      "['a']\n",
      "['y']\n",
      "[' ']\n",
      "['i']\n",
      "['s']\n",
      "[' ']\n",
      "['a']\n",
      "[' ']\n",
      "['v']\n",
      "['i']\n",
      "['j']\n",
      "['a']\n",
      "['y']\n"
     ]
    }
   ],
   "source": [
    "a='vijay is a vijay'\n",
    "for i in range(len(a)):\n",
    "    print(list(a[i]))\n",
    "    if i == 'vijay':\n",
    "        print(a[i])"
   ]
  },
  {
   "cell_type": "code",
   "execution_count": 63,
   "id": "faa6f33d-c77f-4062-843c-e58a6cee5d17",
   "metadata": {},
   "outputs": [
    {
     "name": "stdout",
     "output_type": "stream",
     "text": [
      "['vijay', 'is', 'a', 'vijay']\n",
      "0\n",
      "3\n"
     ]
    }
   ],
   "source": [
    "a = 'vijay is a vijay'\n",
    "words = a.split()  \n",
    "print(words)\n",
    "for word in range(len(words)):\n",
    "    if str(words[word]) == 'vijay':\n",
    "        print(word)\n"
   ]
  },
  {
   "cell_type": "code",
   "execution_count": 65,
   "id": "e5919462-f839-4c54-9f24-6fe97178e9b7",
   "metadata": {},
   "outputs": [
    {
     "name": "stdout",
     "output_type": "stream",
     "text": [
      "name\n",
      "name\n"
     ]
    }
   ],
   "source": [
    "a = 'my name is name'\n",
    "word = 'name'\n",
    "indices = []\n",
    "\n",
    "# Loop through the string and find the word 'name'\n",
    "for i in range(len(a) - len(word) + 1):\n",
    "    if a[i:i+len(word)] == word:\n",
    "        indices.append(i)\n",
    "\n",
    "# Print the word found at the indices\n",
    "for index in indices:\n",
    "    print(a[index:index+len(word)])\n"
   ]
  },
  {
   "cell_type": "code",
   "execution_count": 81,
   "id": "c80be7f1-8a91-491a-939b-e345b9580f33",
   "metadata": {},
   "outputs": [
    {
     "name": "stdout",
     "output_type": "stream",
     "text": [
      "name\n",
      "name\n",
      "name\n",
      "name\n"
     ]
    }
   ],
   "source": [
    "a = 'my name is name ok name ok name'\n",
    "word = 'name'\n",
    "start = 0  # Starting point for the search\n",
    "\n",
    "while True:\n",
    "    # Find the word starting from the 'start' index\n",
    "    index = a.find(word, start)\n",
    "    \n",
    "    # If no more occurrences are found, break the loop\n",
    "    if index == -1:\n",
    "        break\n",
    "    start = index + len(word)\n",
    "    print(word)\n",
    "    \n",
    "    # Update 'start' to search for the next occurrence\n",
    "    # start = index + len(word)\n",
    "\n"
   ]
  },
  {
   "cell_type": "code",
   "execution_count": null,
   "id": "52abb020-6d5d-4dfa-bcca-4149d2aa44cb",
   "metadata": {},
   "outputs": [],
   "source": []
  }
 ],
 "metadata": {
  "kernelspec": {
   "display_name": "Python [conda env:base] *",
   "language": "python",
   "name": "conda-base-py"
  },
  "language_info": {
   "codemirror_mode": {
    "name": "ipython",
    "version": 3
   },
   "file_extension": ".py",
   "mimetype": "text/x-python",
   "name": "python",
   "nbconvert_exporter": "python",
   "pygments_lexer": "ipython3",
   "version": "3.12.7"
  }
 },
 "nbformat": 4,
 "nbformat_minor": 5
}
