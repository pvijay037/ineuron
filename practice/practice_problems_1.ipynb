{
 "cells": [
  {
   "cell_type": "code",
   "execution_count": 12,
   "id": "0d6e30da-240d-4135-9d7e-14b7649870f6",
   "metadata": {},
   "outputs": [
    {
     "name": "stdin",
     "output_type": "stream",
     "text": [
      " VIJAY\n",
      " ptil\n"
     ]
    },
    {
     "name": "stdout",
     "output_type": "stream",
     "text": [
      "correct guess\n"
     ]
    }
   ],
   "source": [
    "firstname=input()\n",
    "lastname=input()\n",
    "\n",
    "if firstname == 'vijay' and lastname == 'patil':\n",
    "    print('correct guess')\n",
    "elif firstname == 'VIJAY' or lastname == 'Patil':\n",
    "    print('correct guess')\n",
    "else:\n",
    "    print('error')\n",
    "    "
   ]
  },
  {
   "cell_type": "code",
   "execution_count": 18,
   "id": "18edd242-cc3e-4a7c-a5ab-51c4de784eaf",
   "metadata": {},
   "outputs": [
    {
     "name": "stdout",
     "output_type": "stream",
     "text": [
      "this is valid\n"
     ]
    }
   ],
   "source": [
    "a=True \n",
    "if a==1:\n",
    "    print('this is valid')"
   ]
  },
  {
   "cell_type": "code",
   "execution_count": 2,
   "id": "7779af34-64ce-4964-af85-2156065282d6",
   "metadata": {},
   "outputs": [
    {
     "name": "stdout",
     "output_type": "stream",
     "text": [
      "speed 2\n",
      "speed 3\n",
      "speed 4\n",
      "speed 5\n",
      "speed 6\n",
      "speed 7\n",
      "speed 8\n",
      "speed 9\n",
      "speed 10\n",
      "speed 11\n",
      "speed 12\n",
      "speed 13\n",
      "speed 14\n",
      "speed 15\n",
      "speed 16\n",
      "speed 17\n",
      "speed 18\n",
      "speed 19\n",
      "speed 20\n",
      "speed 21\n",
      "speed 22\n",
      "speed 23\n",
      "speed 24\n",
      "speed 25\n",
      "speed 26\n",
      "speed 27\n",
      "speed 28\n",
      "speed 29\n",
      "speed 30\n",
      "speed 31\n",
      "speed 32\n",
      "speed 33\n",
      "speed 34\n",
      "speed 35\n",
      "speed 36\n",
      "speed 37\n",
      "speed 38\n",
      "speed 39\n",
      "speed 40\n",
      "speed 41\n",
      "speed 42\n",
      "speed 43\n",
      "speed 44\n",
      "speed 45\n",
      "speed 46\n",
      "speed 47\n",
      "speed 48\n",
      "speed 49\n",
      "speed 50\n",
      "speed is 50\n",
      "speed 51\n",
      "speed 52\n",
      "speed 53\n",
      "speed 54\n",
      "speed 55\n",
      "speed 56\n",
      "speed 57\n",
      "speed 58\n",
      "speed 59\n",
      "speed 60\n",
      "speed 61\n",
      "speed 62\n",
      "speed 63\n",
      "speed 64\n",
      "speed 65\n",
      "speed 66\n",
      "speed 67\n",
      "speed 68\n",
      "speed 69\n",
      "speed 70\n",
      "speed 71\n",
      "speed 72\n",
      "speed 73\n",
      "speed 74\n",
      "speed 75\n",
      "speed 76\n",
      "speed 77\n",
      "speed 78\n",
      "speed 79\n",
      "speed 80\n",
      "speed 81\n",
      "speed 82\n",
      "speed 83\n",
      "speed 84\n",
      "speed 85\n",
      "speed 86\n",
      "speed 87\n",
      "speed 88\n",
      "speed 89\n",
      "speed 90\n",
      "speed 91\n",
      "speed 92\n",
      "speed 93\n",
      "speed 94\n",
      "speed 95\n",
      "speed 96\n",
      "speed 97\n",
      "speed 98\n",
      "speed 99\n",
      "you reached your destination\n"
     ]
    }
   ],
   "source": [
    "intial_speed=1\n",
    "final_speed=100\n",
    "count=1\n",
    "while intial_speed<final_speed:\n",
    "    count+=1 \n",
    "    print(\"speed\",count)\n",
    "    if count==50:\n",
    "        print(\"speed is 50\")  \n",
    "    if count==99:\n",
    "        print(\"you reached your destination\") \n",
    "        break\n",
    "    \n",
    "     \n"
   ]
  },
  {
   "cell_type": "code",
   "execution_count": 10,
   "id": "ddeab089-160a-46f0-ab20-21edc07ecab5",
   "metadata": {},
   "outputs": [
    {
     "name": "stdout",
     "output_type": "stream",
     "text": [
      "qwe 1\n",
      "qwe 2\n",
      "qwe 3\n",
      "qwe 4\n",
      "5\n",
      "vijay\n"
     ]
    }
   ],
   "source": [
    "notes=5\n",
    "i=1\n",
    "j=1\n",
    "while i< notes:\n",
    "    print('qwe',i)\n",
    "    i+=1\n",
    "else:\n",
    "    while j<2:\n",
    "        print(i)\n",
    "        j+=1\n",
    "    print(\"vijay\")\n",
    "    "
   ]
  },
  {
   "cell_type": "code",
   "execution_count": 16,
   "id": "3dd4e60a-d778-450e-aec1-07dfc123da17",
   "metadata": {},
   "outputs": [
    {
     "name": "stdout",
     "output_type": "stream",
     "text": [
      "sudh\n",
      "h\n"
     ]
    }
   ],
   "source": [
    "s='sudh'\n",
    "print(s)\n",
    "print(s[3])"
   ]
  },
  {
   "cell_type": "code",
   "execution_count": 28,
   "id": "81176757-5ff1-4f92-b796-1306d0a4aec3",
   "metadata": {},
   "outputs": [
    {
     "name": "stdout",
     "output_type": "stream",
     "text": [
      "name is\n",
      "uhsnahdus si eman ym\n"
     ]
    }
   ],
   "source": [
    "sentence ='my name is sudhanshu'\n",
    "\n",
    "print(sentence[3:10])\n",
    "print(sentence[::-1])"
   ]
  },
  {
   "cell_type": "code",
   "execution_count": 26,
   "id": "a8bebcca-f3d3-4f95-ab4a-7290d07c0294",
   "metadata": {},
   "outputs": [
    {
     "data": {
      "text/plain": [
       "'si eman'"
      ]
     },
     "execution_count": 26,
     "metadata": {},
     "output_type": "execute_result"
    }
   ],
   "source": [
    "sentence[9:2:-1]\n"
   ]
  },
  {
   "cell_type": "code",
   "execution_count": 38,
   "id": "e44db997-9b58-4fdd-9ed2-dcdac8aaead1",
   "metadata": {},
   "outputs": [
    {
     "name": "stdout",
     "output_type": "stream",
     "text": [
      "y\n",
      " \n",
      "n\n",
      "a\n",
      "m\n",
      "e\n",
      " \n",
      "i\n",
      "s\n",
      " \n",
      "s\n",
      "u\n",
      "d\n",
      "h\n",
      "a\n"
     ]
    }
   ],
   "source": [
    "for i in range(1,16):\n",
    "    print(sentence[i])"
   ]
  },
  {
   "cell_type": "code",
   "execution_count": 42,
   "id": "c6f1252b-51c5-4eb8-b2fd-f66f90a28e3c",
   "metadata": {},
   "outputs": [
    {
     "name": "stdout",
     "output_type": "stream",
     "text": [
      "v\n",
      "i\n",
      "j\n"
     ]
    }
   ],
   "source": [
    "for i in 'vijay':\n",
    "    if i=='a':\n",
    "        break\n",
    "    print(i)\n",
    "else:\n",
    "    print('vijay out')"
   ]
  },
  {
   "cell_type": "code",
   "execution_count": 40,
   "id": "2120a564-cf9c-4ca3-ac35-f13bf3e181d5",
   "metadata": {},
   "outputs": [
    {
     "name": "stdout",
     "output_type": "stream",
     "text": [
      "v\n",
      "i\n",
      "j\n",
      "y\n",
      "vijay out\n"
     ]
    }
   ],
   "source": [
    "for i in 'vijay':\n",
    "    if i=='a':\n",
    "        continue\n",
    "    print(i)\n",
    "else:\n",
    "    print('vijay out')"
   ]
  },
  {
   "cell_type": "code",
   "execution_count": 35,
   "id": "4eb28e89-7ed4-4134-8a8c-a77e0dca4d5b",
   "metadata": {},
   "outputs": [
    {
     "name": "stdout",
     "output_type": "stream",
     "text": [
      "chmstry bnn rscrd bk\n",
      "eiaueooo\n"
     ]
    }
   ],
   "source": [
    "a='chemistry bannu rescord book'\n",
    "empty=''\n",
    "hello=''\n",
    "for i in a:\n",
    "    if i in ('a','e','i','o','u'):\n",
    "        hello+=i\n",
    "        continue\n",
    "    else:\n",
    "        empty= empty+i\n",
    "print(empty)\n",
    "print(hello)\n",
    "        "
   ]
  },
  {
   "cell_type": "code",
   "execution_count": 5,
   "id": "754d0346-1f44-4336-8a54-89a1300fa888",
   "metadata": {},
   "outputs": [
    {
     "name": "stdout",
     "output_type": "stream",
     "text": [
      "+ \n",
      "+ + \n",
      "+ + + \n",
      "+ + + + \n",
      "+ + + + + \n",
      "+ + + + + + \n",
      "+ + + + + + + \n"
     ]
    }
   ],
   "source": [
    "n=7\n",
    "for i in range(0,n):\n",
    "    for j in range(0,i+1):\n",
    "        print('+ ',end= '')\n",
    "    print()"
   ]
  },
  {
   "cell_type": "code",
   "execution_count": 29,
   "id": "2d6d0021-a3a9-43e0-80f8-4b38827f7264",
   "metadata": {},
   "outputs": [
    {
     "name": "stdout",
     "output_type": "stream",
     "text": [
      "+ + + + + + + \n",
      "+ + + + + + \n",
      "+ + + + + \n",
      "+ + + + \n",
      "+ + + \n",
      "+ + \n",
      "+ \n"
     ]
    }
   ],
   "source": [
    "n=7\n",
    "for i in range(n):\n",
    "    for j in range(n-i):\n",
    "        print('+ ',end='') \n",
    "    print()\n",
    "        "
   ]
  },
  {
   "cell_type": "code",
   "execution_count": 65,
   "id": "b2bea6e3-0d23-41a7-8515-848c520cb3ac",
   "metadata": {},
   "outputs": [
    {
     "name": "stdout",
     "output_type": "stream",
     "text": [
      "*************\n",
      " ***********\n",
      "  *********\n",
      "   *******\n",
      "    *****\n",
      "     ***\n",
      "      *\n"
     ]
    }
   ],
   "source": [
    "n=7\n",
    "for i in range(n,0,-1):\n",
    "    for j in range(n-i):\n",
    "        print(' ',end='')\n",
    "    for j in range(2*i-1):\n",
    "        print('*',end='')\n",
    "    print()"
   ]
  },
  {
   "cell_type": "code",
   "execution_count": 57,
   "id": "e028903c-a1f7-4d64-98eb-35b48a19c6be",
   "metadata": {},
   "outputs": [
    {
     "name": "stdout",
     "output_type": "stream",
     "text": [
      "        * * * * * * \n",
      "         * * * * * \n",
      "          * * * * \n",
      "           * * * \n",
      "            * * \n",
      "             * \n"
     ]
    }
   ],
   "source": [
    "num=5\n",
    "m= 2 * num-2\n",
    "for i in range(num,-1,-1):\n",
    "    for j in range(m,0,-1):\n",
    "        print(end=' ')\n",
    "    m=m+1\n",
    "    for j in range(0,i+1):\n",
    "        print(\"*\",end=' ')\n",
    "    print(\"\")"
   ]
  },
  {
   "cell_type": "code",
   "execution_count": 59,
   "id": "2aed513e-65d5-4ab6-ba2b-c340e88b5da8",
   "metadata": {
    "scrolled": true
   },
   "outputs": [
    {
     "name": "stdout",
     "output_type": "stream",
     "text": [
      "        * \n",
      "       * * \n",
      "      * * * \n",
      "     * * * * \n",
      "    * * * * * \n",
      "   * * * * * * \n",
      "  * * * * * * * \n",
      " * * * * * * * * \n",
      "* * * * * * * * * \n"
     ]
    }
   ],
   "source": [
    "n=9\n",
    "i=0\n",
    "while i<n:\n",
    "    print(' '*(n-i-1)+'* '*(i+1))\n",
    "    i=i+1"
   ]
  },
  {
   "cell_type": "code",
   "execution_count": null,
   "id": "47c84cc1-1ba0-4387-bbdb-4c8180adcd1b",
   "metadata": {},
   "outputs": [],
   "source": []
  },
  {
   "cell_type": "code",
   "execution_count": 146,
   "id": "b0dc53b3-858d-4255-b7db-50fad8945f9a",
   "metadata": {},
   "outputs": [
    {
     "name": "stdout",
     "output_type": "stream",
     "text": [
      "\n",
      "*\n",
      "**\n",
      "***\n",
      "****\n",
      "*****\n",
      "******\n"
     ]
    }
   ],
   "source": [
    "n=7\n",
    "for i in range(0,7):\n",
    "    for j in range(i):\n",
    "        print(\"*\",end='')\n",
    "    print()"
   ]
  },
  {
   "cell_type": "code",
   "execution_count": 148,
   "id": "40136d37-36c4-43a8-9e28-0e133a7f91a8",
   "metadata": {},
   "outputs": [
    {
     "name": "stdout",
     "output_type": "stream",
     "text": [
      "*******\n",
      "******\n",
      "*****\n",
      "****\n",
      "***\n",
      "**\n",
      "*\n"
     ]
    }
   ],
   "source": [
    "for i in range(7,0,-1):\n",
    "    for j in range(i):\n",
    "        print(\"*\",end='')\n",
    "    print()"
   ]
  },
  {
   "cell_type": "code",
   "execution_count": 154,
   "id": "f7f32190-d052-4262-a36d-1a9b519b905b",
   "metadata": {},
   "outputs": [
    {
     "name": "stdin",
     "output_type": "stream",
     "text": [
      " 5\n"
     ]
    },
    {
     "name": "stdout",
     "output_type": "stream",
     "text": [
      "*****\n",
      " ****\n",
      "  ***\n",
      "   **\n",
      "    *\n"
     ]
    }
   ],
   "source": [
    "n=int(input())\n",
    "for i in range(n,0,-1):\n",
    "    for j in range(n-i):\n",
    "        print(' ',end='')\n",
    "    for j in range(i):\n",
    "        print('*',end='')\n",
    "    print()"
   ]
  },
  {
   "cell_type": "code",
   "execution_count": 134,
   "id": "c8c5dad6-2c75-4450-80fa-6a3c66f67a3e",
   "metadata": {},
   "outputs": [
    {
     "name": "stdin",
     "output_type": "stream",
     "text": [
      " 9\n"
     ]
    },
    {
     "name": "stdout",
     "output_type": "stream",
     "text": [
      "*****************\n",
      " ***************\n",
      "  *************\n",
      "   ***********\n",
      "    *********\n",
      "     *******\n",
      "      *****\n",
      "       ***\n",
      "        *\n"
     ]
    }
   ],
   "source": [
    "n=int(input())\n",
    "for i in range(n,0,-1):\n",
    "    for j in range(n-i):\n",
    "        print(' ',end='')\n",
    "    for j in range(2*i-1):\n",
    "        print('*',end='')\n",
    "    print()"
   ]
  },
  {
   "cell_type": "code",
   "execution_count": 140,
   "id": "0b183b0f-46ad-40e9-b1cf-65ac3e998109",
   "metadata": {},
   "outputs": [
    {
     "name": "stdin",
     "output_type": "stream",
     "text": [
      " 6\n"
     ]
    },
    {
     "name": "stdout",
     "output_type": "stream",
     "text": [
      "      \n",
      "     *\n",
      "    ***\n",
      "   *****\n",
      "  *******\n",
      " *********\n",
      "***********\n",
      " *********\n",
      "  *******\n",
      "   *****\n",
      "    ***\n",
      "     *\n"
     ]
    }
   ],
   "source": [
    "n=int(input())\n",
    "for i in range(0,n):\n",
    "    for j in range(n-i):\n",
    "        print(' ',end='')\n",
    "    for j in range(2*i-1):\n",
    "        print('*',end='')\n",
    "    print()\n",
    "for i in range(n,0,-1):\n",
    "    for j in range(n-i):\n",
    "        print(' ',end='')\n",
    "    for j in range(2*i-1):\n",
    "        print('*',end='')\n",
    "    print()"
   ]
  },
  {
   "cell_type": "code",
   "execution_count": 142,
   "id": "29a69767-8bc3-44f8-bae3-778d19cd6d5d",
   "metadata": {},
   "outputs": [
    {
     "name": "stdin",
     "output_type": "stream",
     "text": [
      " 5\n"
     ]
    },
    {
     "name": "stdout",
     "output_type": "stream",
     "text": [
      "     \n",
      "    * \n",
      "   * * \n",
      "  * * * \n",
      " * * * * \n",
      "* * * * * \n",
      " * * * * \n",
      "  * * * \n",
      "   * * \n",
      "    * \n"
     ]
    }
   ],
   "source": [
    "n=int(input())\n",
    "for i in range(0,n):\n",
    "    for j in range(n-i):\n",
    "        print(' ',end='')\n",
    "    for j in range(i):\n",
    "        print('* ',end='')\n",
    "    print()\n",
    "for i in range(n,0,-1):\n",
    "    for j in range(n-i):\n",
    "        print(' ',end='')\n",
    "    for j in range(i):\n",
    "        print('* ',end='')\n",
    "    print()"
   ]
  },
  {
   "cell_type": "code",
   "execution_count": 162,
   "id": "8a524359-1f10-4c1b-b297-e6988d7db53e",
   "metadata": {},
   "outputs": [
    {
     "name": "stdin",
     "output_type": "stream",
     "text": [
      " 5\n"
     ]
    },
    {
     "name": "stdout",
     "output_type": "stream",
     "text": [
      "*****\n",
      "**** \n",
      "***  \n",
      "**   \n",
      "*    \n"
     ]
    }
   ],
   "source": [
    "n=int(input())\n",
    "for i in range(n,0,-1):\n",
    "    for j in range(i):\n",
    "        print('*',end='')\n",
    "    for j in range(n-i):\n",
    "        print(' ',end='')\n",
    "    print()"
   ]
  },
  {
   "cell_type": "code",
   "execution_count": 214,
   "id": "b73f19ae-1743-4067-97f0-f2d1512c3514",
   "metadata": {},
   "outputs": [
    {
     "name": "stdout",
     "output_type": "stream",
     "text": [
      "* * * * * * * * * \n",
      " * * * * * * * * \n",
      "  * * * * * * * \n",
      "   * * * * * * \n",
      "    * * * * * \n",
      "     * * * * \n",
      "      * * * \n",
      "       * * \n",
      "        * \n"
     ]
    }
   ],
   "source": [
    "n=9\n",
    "i=0\n",
    "while i<n:\n",
    "    print(f'{' '*(i) + '* '*(n-i)}')\n",
    "    i=i+1"
   ]
  },
  {
   "cell_type": "code",
   "execution_count": 176,
   "id": "c6c6af53-8a29-43e4-9259-9b4590481927",
   "metadata": {},
   "outputs": [
    {
     "name": "stdout",
     "output_type": "stream",
     "text": [
      "\n",
      "* \n",
      "* * \n",
      "* * * \n",
      "* * * * \n"
     ]
    }
   ],
   "source": [
    "n=5\n",
    "i=0\n",
    "while i<n:\n",
    "    print(\"* \"*i)\n",
    "    i+=1"
   ]
  },
  {
   "cell_type": "code",
   "execution_count": 244,
   "id": "4f73a5b1-f4e9-4fa9-8383-dc7620c8c75b",
   "metadata": {},
   "outputs": [
    {
     "name": "stdout",
     "output_type": "stream",
     "text": [
      "* * * * * \n",
      "* * * * \n",
      "* * * \n",
      "* * \n",
      "* \n"
     ]
    }
   ],
   "source": [
    "n=0\n",
    "i=5\n",
    "while n<i:\n",
    "    print(\"* \"*(i))\n",
    "    i-=1"
   ]
  },
  {
   "cell_type": "code",
   "execution_count": 206,
   "id": "ddd9b850-be12-4a6f-a376-4f4d2887c657",
   "metadata": {},
   "outputs": [
    {
     "name": "stdout",
     "output_type": "stream",
     "text": [
      "         * \n",
      "        * * \n",
      "       * * * \n",
      "      * * * * \n",
      "     * * * * * \n",
      "    * * * * * * \n",
      "   * * * * * * * \n",
      "  * * * * * * * * \n",
      " * * * * * * * * * \n"
     ]
    }
   ],
   "source": [
    "n=9\n",
    "i=0\n",
    "while i<n:\n",
    "    print(' '* (n-i)+'* '*(i+1))\n",
    "    i+=1"
   ]
  },
  {
   "cell_type": "code",
   "execution_count": null,
   "id": "41b17134-7194-4ac5-84c4-c886d1164dc4",
   "metadata": {},
   "outputs": [],
   "source": []
  }
 ],
 "metadata": {
  "kernelspec": {
   "display_name": "Python [conda env:base] *",
   "language": "python",
   "name": "conda-base-py"
  },
  "language_info": {
   "codemirror_mode": {
    "name": "ipython",
    "version": 3
   },
   "file_extension": ".py",
   "mimetype": "text/x-python",
   "name": "python",
   "nbconvert_exporter": "python",
   "pygments_lexer": "ipython3",
   "version": "3.12.7"
  }
 },
 "nbformat": 4,
 "nbformat_minor": 5
}
