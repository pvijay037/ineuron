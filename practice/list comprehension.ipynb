{
 "cells": [
  {
   "cell_type": "code",
   "execution_count": 62,
   "id": "22e84e64-1b45-4e88-95a5-0ce3ac865054",
   "metadata": {},
   "outputs": [],
   "source": [
    "s=[\"vijay\",1,2,3,4,5,6,\"ineuron\"]"
   ]
  },
  {
   "cell_type": "code",
   "execution_count": 46,
   "id": "26a59205-bdde-4209-8622-420fc6a480fb",
   "metadata": {},
   "outputs": [],
   "source": [
    "s.append(\"google\")\n"
   ]
  },
  {
   "cell_type": "code",
   "execution_count": 48,
   "id": "7cad8b89-8b74-4278-a0f1-4fb569f4c468",
   "metadata": {},
   "outputs": [
    {
     "data": {
      "text/plain": [
       "['vijay', 1, 2, 3, 4, 5, 6, 'ineuron', 'google']"
      ]
     },
     "execution_count": 48,
     "metadata": {},
     "output_type": "execute_result"
    }
   ],
   "source": [
    "s"
   ]
  },
  {
   "cell_type": "code",
   "execution_count": 66,
   "id": "2d30bf3a-2a38-418c-8658-cab3616c5014",
   "metadata": {},
   "outputs": [],
   "source": [
    "s.insert(3,\"instagram\")\n"
   ]
  },
  {
   "cell_type": "code",
   "execution_count": 56,
   "id": "f48d10a6-6d2b-497c-8daa-906fd788663a",
   "metadata": {},
   "outputs": [
    {
     "data": {
      "text/plain": [
       "['vijay', 1, 2, 'instagram', 3, 4, 5, 6, 'ineuron', 'google']"
      ]
     },
     "execution_count": 56,
     "metadata": {},
     "output_type": "execute_result"
    }
   ],
   "source": [
    "s"
   ]
  },
  {
   "cell_type": "code",
   "execution_count": 68,
   "id": "cd104dc8-50df-444e-a4c9-33459e80ce38",
   "metadata": {},
   "outputs": [
    {
     "data": {
      "text/plain": [
       "['vijay', 1, 2, 'instagram', 3, 4, 5, 6, 'facebook', 'facebook', 'ineuron']"
      ]
     },
     "execution_count": 68,
     "metadata": {},
     "output_type": "execute_result"
    }
   ],
   "source": [
    "s.insert(-1,\"facebook\")\n",
    "s"
   ]
  },
  {
   "cell_type": "code",
   "execution_count": 72,
   "id": "1110fcf4-d14e-4873-8d31-7480a2b34d90",
   "metadata": {},
   "outputs": [
    {
     "data": {
      "text/plain": [
       "2"
      ]
     },
     "execution_count": 72,
     "metadata": {},
     "output_type": "execute_result"
    }
   ],
   "source": [
    "s.count(\"facebook\")"
   ]
  },
  {
   "cell_type": "code",
   "execution_count": 82,
   "id": "0b505de6-7d56-4550-9ab5-fbc90d5a72d8",
   "metadata": {},
   "outputs": [],
   "source": [
    "s.append(['1','2','3','4'])"
   ]
  },
  {
   "cell_type": "code",
   "execution_count": 84,
   "id": "9991ea09-b51f-48b8-8a6c-2b7d153add48",
   "metadata": {},
   "outputs": [
    {
     "data": {
      "text/plain": [
       "['vijay',\n",
       " 1,\n",
       " 2,\n",
       " 'instagram',\n",
       " 3,\n",
       " 4,\n",
       " 5,\n",
       " 6,\n",
       " 'facebook',\n",
       " 'facebook',\n",
       " 'ineuron',\n",
       " ['1', '2', '3', '4']]"
      ]
     },
     "execution_count": 84,
     "metadata": {},
     "output_type": "execute_result"
    }
   ],
   "source": [
    "s"
   ]
  },
  {
   "cell_type": "code",
   "execution_count": 112,
   "id": "bb7b73f5-11cf-4538-b9ec-3c2aeff4037b",
   "metadata": {},
   "outputs": [
    {
     "name": "stdout",
     "output_type": "stream",
     "text": [
      "0\n",
      "3\n"
     ]
    }
   ],
   "source": [
    "a='vijay is a  vijay'\n",
    "b=a.split()\n",
    "start=0\n",
    "for i in range(len(b)):\n",
    "    if b[i]==\"vijay\":\n",
    "        print(i)\n",
    "    "
   ]
  },
  {
   "cell_type": "code",
   "execution_count": 262,
   "id": "33bb2a0e-21b2-41d8-8aee-f6e2e418d884",
   "metadata": {},
   "outputs": [],
   "source": [
    "l=[\"facebook\",'instagram','whatsapp','meta']\n",
    "l.insert(2,[1,2,3,'whatsapp',5,\"meta\"])\n",
    "l.insert(2,[1,2,3,'instagram',5,6])"
   ]
  },
  {
   "cell_type": "code",
   "execution_count": 188,
   "id": "cb25f104-b17f-4c3b-964d-886225aceef8",
   "metadata": {},
   "outputs": [],
   "source": [
    "l.append(2+2j)"
   ]
  },
  {
   "cell_type": "code",
   "execution_count": 190,
   "id": "b8abe553-7e61-44e1-b16e-5f007c5cc34d",
   "metadata": {},
   "outputs": [
    {
     "data": {
      "text/plain": [
       "['facebook',\n",
       " 'instagram',\n",
       " [1, 2, 3, 'instagram', 5, 6],\n",
       " [1, 2, 3, 'whatsapp', 5, 6],\n",
       " 'whatsapp',\n",
       " 'meta',\n",
       " (2+2j),\n",
       " (2+2j)]"
      ]
     },
     "execution_count": 190,
     "metadata": {},
     "output_type": "execute_result"
    }
   ],
   "source": [
    "l"
   ]
  },
  {
   "cell_type": "code",
   "execution_count": 719,
   "id": "b646d0da-5a73-4cb2-a5bd-b2a19263f175",
   "metadata": {},
   "outputs": [],
   "source": [
    "l=[[1,2,3],[11,12,'bok','b','b'],[21,'t',223],[4,5,6],[7,8,9],'demo',12.5]"
   ]
  },
  {
   "cell_type": "code",
   "execution_count": 765,
   "id": "256dd3b2-6025-4d32-a1a8-5aba6fc23a33",
   "metadata": {},
   "outputs": [
    {
     "name": "stdout",
     "output_type": "stream",
     "text": [
      "b  index is 4\n",
      "b  index is 3\n",
      "bok  index is 2\n",
      "t  index is 1\n",
      "[[1, 2, 3], [11, 12], [21, 223], [4, 5, 6], [7, 8, 9], 'demo', 12.5]\n",
      "3\n",
      "6\n",
      "9\n"
     ]
    }
   ],
   "source": [
    "l=[[1,2,3],[11,12,'bok','b','b'],[21,'t',223],[4,5,6],[7,8,9],'demo',12.5]\n",
    "for i in range(len(l)):\n",
    "    # print(l[i])\n",
    "    if type(l[i])==list:\n",
    "        for j in range(len(l[i])-1,0,-1):\n",
    "            if type(l[i][j])== str:\n",
    "                # print(l[i],'iii')\n",
    "                print(l[i][j],\" index is\",j)\n",
    "                l[i].pop(j)\n",
    "print(l)\n",
    "\n",
    "for i in l:\n",
    "    if type(i)==list:\n",
    "        if len(i)>2:\n",
    "            print(i[2])\n",
    "\n",
    "            "
   ]
  },
  {
   "cell_type": "code",
   "execution_count": 647,
   "id": "969fe3c0-7993-4a03-a05c-5203ba98d389",
   "metadata": {},
   "outputs": [],
   "source": []
  },
  {
   "cell_type": "code",
   "execution_count": 767,
   "id": "81ea2977-82a8-4c42-9241-7d6cd0df887a",
   "metadata": {},
   "outputs": [
    {
     "name": "stdout",
     "output_type": "stream",
     "text": [
      "bok 2\n",
      "b 3\n",
      "b 4\n",
      "bok\n",
      "b\n",
      "b\n",
      "t 1\n",
      "t\n",
      "[[1, 2, 3], [11, 12], [21, 223], [4, 5, 6], [7, 8, 9], 'demo', 12.5]\n",
      "3\n",
      "6\n",
      "9\n"
     ]
    }
   ],
   "source": [
    "l=[[1,2,3],[11,12,'bok','b','b'],[21,'t',223],[4,5,6],[7,8,9],'demo',12.5]\n",
    "for i in l:\n",
    "    if type(i)==list:\n",
    "        j=0\n",
    "        while j<len(i):\n",
    "            if type(i[j]) is str:\n",
    "                print(i[j],j)\n",
    "            j+=1\n",
    "        j=0\n",
    "        while j< len(i):\n",
    "            if type(i[j]) is str:\n",
    "                print(i[j])\n",
    "                i.remove(i[j])\n",
    "                continue\n",
    "            j+=1\n",
    "print(l)\n",
    "\n",
    "for i in l:\n",
    "    if type(i)==list:\n",
    "        if len(i)>2:\n",
    "            print(i[2])\n",
    "            \n",
    "            \n",
    "                "
   ]
  },
  {
   "cell_type": "code",
   "execution_count": 7,
   "id": "9257db02-1231-49e3-a12c-cca6e12cb5b7",
   "metadata": {},
   "outputs": [
    {
     "ename": "SyntaxError",
     "evalue": "expected 'else' after 'if' expression (3087177069.py, line 2)",
     "output_type": "error",
     "traceback": [
      "\u001b[1;36m  Cell \u001b[1;32mIn[7], line 2\u001b[1;36m\u001b[0m\n\u001b[1;33m    [i if i%2==0 for i in range(10)]\u001b[0m\n\u001b[1;37m     ^\u001b[0m\n\u001b[1;31mSyntaxError\u001b[0m\u001b[1;31m:\u001b[0m expected 'else' after 'if' expression\n"
     ]
    }
   ],
   "source": []
  },
  {
   "cell_type": "code",
   "execution_count": 9,
   "id": "be9cc7f8-3436-49fd-b766-6b2b03c6f9c1",
   "metadata": {},
   "outputs": [
    {
     "data": {
      "text/plain": [
       "[0, 2, 4, 6, 8]"
      ]
     },
     "execution_count": 9,
     "metadata": {},
     "output_type": "execute_result"
    }
   ],
   "source": [
    "i=[]\n",
    "[i for i in range(10) if i%2==0 ]"
   ]
  },
  {
   "cell_type": "code",
   "execution_count": null,
   "id": "40904ceb-efbd-4f7e-b6f1-f67afa87ddf7",
   "metadata": {},
   "outputs": [],
   "source": []
  }
 ],
 "metadata": {
  "kernelspec": {
   "display_name": "Python [conda env:base] *",
   "language": "python",
   "name": "conda-base-py"
  },
  "language_info": {
   "codemirror_mode": {
    "name": "ipython",
    "version": 3
   },
   "file_extension": ".py",
   "mimetype": "text/x-python",
   "name": "python",
   "nbconvert_exporter": "python",
   "pygments_lexer": "ipython3",
   "version": "3.12.7"
  }
 },
 "nbformat": 4,
 "nbformat_minor": 5
}
