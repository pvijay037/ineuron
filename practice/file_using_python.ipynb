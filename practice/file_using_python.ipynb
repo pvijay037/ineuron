{
 "cells": [
  {
   "cell_type": "code",
   "execution_count": 5,
   "id": "87c2ea3d-4311-43a4-8adc-e4f141112fa6",
   "metadata": {},
   "outputs": [
    {
     "name": "stdout",
     "output_type": "stream",
     "text": [
      "C:\\Users\\nagar\\vijay\n",
      "C:\\Users\\nagar\\vijay\\vijay\n",
      "C:\\Users\\nagar\\vijay\\vijay\n",
      "final_output.txt\n",
      "text1.txt\n"
     ]
    },
    {
     "ename": "Error",
     "evalue": "Destination path 'C:\\Users\\nagar\\new_dir\\text1.txt' already exists",
     "output_type": "error",
     "traceback": [
      "\u001b[1;31m---------------------------------------------------------------------------\u001b[0m",
      "\u001b[1;31mError\u001b[0m                                     Traceback (most recent call last)",
      "Cell \u001b[1;32mIn[5], line 27\u001b[0m\n\u001b[0;32m     25\u001b[0m \u001b[38;5;28mprint\u001b[39m(i)\n\u001b[0;32m     26\u001b[0m \u001b[38;5;28;01mif\u001b[39;00m i \u001b[38;5;241m!=\u001b[39m \u001b[38;5;124m'\u001b[39m\u001b[38;5;124mfinal_output.txt\u001b[39m\u001b[38;5;124m'\u001b[39m:\n\u001b[1;32m---> 27\u001b[0m     shutil\u001b[38;5;241m.\u001b[39mmove(i,\u001b[38;5;124m\"\u001b[39m\u001b[38;5;124mC:\u001b[39m\u001b[38;5;130;01m\\\\\u001b[39;00m\u001b[38;5;124mUsers\u001b[39m\u001b[38;5;130;01m\\\\\u001b[39;00m\u001b[38;5;124mnagar\u001b[39m\u001b[38;5;130;01m\\\\\u001b[39;00m\u001b[38;5;124mnew_dir\u001b[39m\u001b[38;5;124m\"\u001b[39m)\n",
      "File \u001b[1;32m~\\anaconda3\\Lib\\shutil.py:845\u001b[0m, in \u001b[0;36mmove\u001b[1;34m(src, dst, copy_function)\u001b[0m\n\u001b[0;32m    842\u001b[0m     real_dst \u001b[38;5;241m=\u001b[39m os\u001b[38;5;241m.\u001b[39mpath\u001b[38;5;241m.\u001b[39mjoin(dst, _basename(src))\n\u001b[0;32m    844\u001b[0m     \u001b[38;5;28;01mif\u001b[39;00m os\u001b[38;5;241m.\u001b[39mpath\u001b[38;5;241m.\u001b[39mexists(real_dst):\n\u001b[1;32m--> 845\u001b[0m         \u001b[38;5;28;01mraise\u001b[39;00m Error(\u001b[38;5;124m\"\u001b[39m\u001b[38;5;124mDestination path \u001b[39m\u001b[38;5;124m'\u001b[39m\u001b[38;5;132;01m%s\u001b[39;00m\u001b[38;5;124m'\u001b[39m\u001b[38;5;124m already exists\u001b[39m\u001b[38;5;124m\"\u001b[39m \u001b[38;5;241m%\u001b[39m real_dst)\n\u001b[0;32m    846\u001b[0m \u001b[38;5;28;01mtry\u001b[39;00m:\n\u001b[0;32m    847\u001b[0m     os\u001b[38;5;241m.\u001b[39mrename(src, real_dst)\n",
      "\u001b[1;31mError\u001b[0m: Destination path 'C:\\Users\\nagar\\new_dir\\text1.txt' already exists"
     ]
    }
   ],
   "source": [
    "import shutil\n",
    "import os\n",
    "os.mkdir('vijay')\n",
    "print(os.getcwd())\n",
    "os.chdir('./vijay')\n",
    "print(os.getcwd())\n",
    "li=[]\n",
    "for i  in range(1,11):\n",
    "    f=open(f'text{i}.txt','wb')\n",
    "    f.write(b'vijay')\n",
    "    f.close()\n",
    "    f=open(f'text{i}.txt','r+')\n",
    "    for i in f:\n",
    "        f=open(f'final_output.txt','wb+')\n",
    "        f.close()\n",
    "        f=open(f'final_output.txt','w')\n",
    "        li.append(i)\n",
    "    print(li)\n",
    "    f.write(str(li))\n",
    "f.close()\n",
    "f.close()\n",
    "current=os.getcwd()\n",
    "print(current)\n",
    "for i in os.listdir(current):\n",
    "    print(i)\n",
    "    if i != 'final_output.txt':\n",
    "        shutil.move(i,\"C:\\\\Users\\\\nagar\\\\new_dir\")\n"
   ]
  },
  {
   "cell_type": "code",
   "execution_count": null,
   "id": "93b82540-329f-40eb-b709-5aa6cb0e3237",
   "metadata": {},
   "outputs": [],
   "source": []
  }
 ],
 "metadata": {
  "kernelspec": {
   "display_name": "Python [conda env:base] *",
   "language": "python",
   "name": "conda-base-py"
  },
  "language_info": {
   "codemirror_mode": {
    "name": "ipython",
    "version": 3
   },
   "file_extension": ".py",
   "mimetype": "text/x-python",
   "name": "python",
   "nbconvert_exporter": "python",
   "pygments_lexer": "ipython3",
   "version": "3.12.7"
  }
 },
 "nbformat": 4,
 "nbformat_minor": 5
}
