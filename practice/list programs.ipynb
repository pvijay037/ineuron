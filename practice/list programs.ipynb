{
 "cells": [
  {
   "cell_type": "markdown",
   "id": "1c745441-8248-4699-b75b-7e3da01d9372",
   "metadata": {},
   "source": [
    "Create a list of integers from 1 to 10.\n"
   ]
  },
  {
   "cell_type": "code",
   "execution_count": 66,
   "id": "356afefa-a601-412e-86db-97d6da46f17e",
   "metadata": {},
   "outputs": [
    {
     "name": "stdout",
     "output_type": "stream",
     "text": [
      "[1, 2, 3, 4, 5, 6, 7, 8, 9, 10]\n"
     ]
    }
   ],
   "source": [
    "my_list=[]\n",
    "for i in range(1,11):\n",
    "    my_list.append(i)\n",
    "print(my_list)"
   ]
  },
  {
   "cell_type": "markdown",
   "id": "9af31598-cf53-4757-a73c-74451b1c3ad4",
   "metadata": {},
   "source": [
    "Create a list of strings and print the number of elements in the list."
   ]
  },
  {
   "cell_type": "code",
   "execution_count": 68,
   "id": "43084b19-a1a7-4d79-bf45-4aec42737c96",
   "metadata": {},
   "outputs": [
    {
     "name": "stdout",
     "output_type": "stream",
     "text": [
      "the no.of elements in the list is : 5\n"
     ]
    }
   ],
   "source": [
    "my_list=['apple','banana','cherry','date','manago']\n",
    "print(\"the no.of elements in the list is :\",len(my_list))"
   ]
  },
  {
   "cell_type": "markdown",
   "id": "2bf2a3aa-b96b-45ab-b3e1-eef9c4217ada",
   "metadata": {},
   "source": [
    "Reverse the order of elements in a given list."
   ]
  },
  {
   "cell_type": "code",
   "execution_count": 70,
   "id": "6ede8d0b-a708-4bc4-bd3b-0f4ede6be6d3",
   "metadata": {},
   "outputs": [
    {
     "name": "stdout",
     "output_type": "stream",
     "text": [
      "#1 ['apple', 'banana', 'cherry', 'date', 'manago']\n",
      "#2 ['manago', 'date', 'cherry', 'banana', 'apple']\n"
     ]
    }
   ],
   "source": [
    "my_list[::-1]\n",
    "print('#1',my_list)\n",
    "# another way\n",
    "my_list.reverse()\n",
    "print('#2',my_list)"
   ]
  },
  {
   "cell_type": "code",
   "execution_count": 72,
   "id": "d8278148-6d5f-454a-992a-cb8c5f2af11d",
   "metadata": {},
   "outputs": [
    {
     "name": "stdout",
     "output_type": "stream",
     "text": [
      "the largest number is : 99\n",
      "99\n"
     ]
    }
   ],
   "source": [
    "my_list=[10,20,4,45,99]\n",
    "largest_number= my_list[0]\n",
    "for num in my_list:\n",
    "    if num > largest_number:\n",
    "        largest_number = num\n",
    "print(\"the largest number is :\",largest_number)\n",
    "\n",
    "# another way\n",
    "largest_number = max(my_list)\n",
    "print(largest_number)\n"
   ]
  },
  {
   "cell_type": "markdown",
   "id": "4ef9e50d-8187-428d-ae4c-51804278880d",
   "metadata": {},
   "source": [
    "Find the smallest number in a list of numbers."
   ]
  },
  {
   "cell_type": "code",
   "execution_count": 74,
   "id": "2e737eae-15ec-4814-8363-589c5cee2f94",
   "metadata": {},
   "outputs": [
    {
     "name": "stdout",
     "output_type": "stream",
     "text": [
      "the smallest number in te list: 2\n"
     ]
    }
   ],
   "source": [
    "my_list=[2,3,4,5,7]\n",
    "smallest_number =my_list[0]\n",
    "for i in my_list:\n",
    "    if smallest_number > i:    \n",
    "        smallest_number=i\n",
    "        print(my_list[i])\n",
    "print('the smallest number in te list:',smallest_number)"
   ]
  },
  {
   "cell_type": "code",
   "execution_count": 76,
   "id": "2cd4878e-c7f5-4952-8151-ce54c86464c6",
   "metadata": {},
   "outputs": [
    {
     "name": "stdout",
     "output_type": "stream",
     "text": [
      " 2\n"
     ]
    }
   ],
   "source": [
    "my_list=[2,3,4,5,6,7]\n",
    "smaleest_number= my_list[0]\n",
    "for i in range(len(my_list)):\n",
    "    if my_list[i]<smaleest_number:\n",
    "        smaleest_number=my_list[i]\n",
    "print(\"\",smaleest_number)"
   ]
  },
  {
   "cell_type": "code",
   "execution_count": 78,
   "id": "2cf30ed2-3f4d-4170-9acc-c20ee3b283f0",
   "metadata": {},
   "outputs": [
    {
     "name": "stdin",
     "output_type": "stream",
     "text": [
      "enter a fruit to check: krishna\n"
     ]
    },
    {
     "name": "stdout",
     "output_type": "stream",
     "text": [
      "krishna is not in the list\n"
     ]
    }
   ],
   "source": [
    "fruits =[\"banana\",'apple','cherry','date']\n",
    "\n",
    "user_input =input('enter a fruit to check:')\n",
    "\n",
    "if user_input in  fruits:\n",
    "    print(f'{user_input} is in the list')\n",
    "else:\n",
    "    print(f'{user_input} is not in the list')"
   ]
  },
  {
   "cell_type": "code",
   "execution_count": 110,
   "id": "ac228755-26ed-434c-b080-a8caf62669cb",
   "metadata": {},
   "outputs": [
    {
     "name": "stdout",
     "output_type": "stream",
     "text": [
      "[1, 2, 4, 6]\n"
     ]
    }
   ],
   "source": [
    "my_list=[1,2,2,4,4,6]\n",
    "duplicate_numbers=list(set(my_list))\n",
    "print(duplicate_numbers)"
   ]
  },
  {
   "cell_type": "code",
   "execution_count": 117,
   "id": "0cb4a057-5b3d-457b-a09c-2b271a16ae5a",
   "metadata": {},
   "outputs": [
    {
     "name": "stdout",
     "output_type": "stream",
     "text": [
      "[1, 32, 4, 5, 6]\n"
     ]
    }
   ],
   "source": [
    "my_list=[1,32,32,4,5,6,4]\n",
    "unique_list=[]\n",
    "\n",
    "for i in my_list:\n",
    "    if i not in unique_list:\n",
    "        unique_list.append(i)\n",
    "print(unique_list)"
   ]
  },
  {
   "cell_type": "markdown",
   "id": "2bf2cf18-0777-4e2b-a34f-75819490fd48",
   "metadata": {},
   "source": [
    "Add an element to the end of a list and to the beginning."
   ]
  },
  {
   "cell_type": "code",
   "execution_count": 119,
   "id": "3dc4fb92-675d-4d17-bb45-c3778ccd4665",
   "metadata": {},
   "outputs": [
    {
     "name": "stdout",
     "output_type": "stream",
     "text": [
      "[1, 2, 3, 4, 5, 6]\n"
     ]
    }
   ],
   "source": [
    "my_list=[2,3,4,5]\n",
    "\n",
    "my_list.append(6)\n",
    "\n",
    "my_list.insert(0,1)\n",
    "print(my_list)"
   ]
  },
  {
   "cell_type": "code",
   "execution_count": 127,
   "id": "efbaaccc-31a8-49f4-a27d-efad56b26199",
   "metadata": {},
   "outputs": [
    {
     "name": "stdout",
     "output_type": "stream",
     "text": [
      "the number appears 9\n"
     ]
    }
   ],
   "source": [
    "my_list = [1,2,2,2,2,2,2,2,2,2,3,4,5,6]\n",
    "element_to_count = 2\n",
    "count=0\n",
    "for num in my_list:\n",
    "    if num == element_to_count:\n",
    "        count+=1\n",
    "print(\"the number appears\",count)"
   ]
  },
  {
   "cell_type": "code",
   "execution_count": 129,
   "id": "ab441a2b-ebc4-4d6d-806e-1064061b4031",
   "metadata": {},
   "outputs": [
    {
     "name": "stdout",
     "output_type": "stream",
     "text": [
      "The number 2 appears 3 times.\n"
     ]
    }
   ],
   "source": [
    "my_list = [1, 2, 3, 2, 4, 2, 5]\n",
    "\n",
    "# Count how many times 2 appears in the list\n",
    "count_of_2 = my_list.count(2)\n",
    "\n",
    "print(\"The number 2 appears\", count_of_2, \"times.\")\n"
   ]
  },
  {
   "cell_type": "markdown",
   "id": "d63a45f2-5962-4218-9afb-ddb016f03101",
   "metadata": {},
   "source": [
    "Combine two lists into one list."
   ]
  },
  {
   "cell_type": "code",
   "execution_count": 132,
   "id": "9a7be5d0-f125-4cf5-98f0-967e60f24311",
   "metadata": {},
   "outputs": [
    {
     "name": "stdout",
     "output_type": "stream",
     "text": [
      "[1, 2, 3, 4, 5, 6]\n"
     ]
    }
   ],
   "source": [
    "list1=[1,2,3]\n",
    "list2=[4,5,6]\n",
    "my_list=list1+list2\n",
    "print(my_list)"
   ]
  },
  {
   "cell_type": "code",
   "execution_count": 136,
   "id": "c30ded41-7680-4652-8ace-a4f32cd0b68f",
   "metadata": {},
   "outputs": [
    {
     "name": "stdout",
     "output_type": "stream",
     "text": [
      "[1, 2, 3, 4, 5, 6]\n"
     ]
    }
   ],
   "source": [
    "list1=[1,2,3]\n",
    "list2=[4,5,6]\n",
    "list1.extend(list2)\n",
    "print(list1)"
   ]
  },
  {
   "cell_type": "code",
   "execution_count": 138,
   "id": "441a3f16-33ab-4d07-88ab-70425124ddeb",
   "metadata": {},
   "outputs": [
    {
     "name": "stdout",
     "output_type": "stream",
     "text": [
      "[1, 2, 3, 4, 5, 6]\n"
     ]
    }
   ],
   "source": [
    "list1=[1,2,3]\n",
    "list2=[4,5,6]\n",
    "emty_list= list1.copy()\n",
    "for i in list2:\n",
    "    emty_list.append(i)\n",
    "print(emty_list)"
   ]
  },
  {
   "cell_type": "code",
   "execution_count": 140,
   "id": "7a2cdf3a-d470-42ab-a4a1-c8e1ac1b46a4",
   "metadata": {},
   "outputs": [
    {
     "name": "stdout",
     "output_type": "stream",
     "text": [
      "[2, 4, 6, 8]\n"
     ]
    }
   ],
   "source": [
    "my_list=[1,2,3,4,5,6,7,8,9]\n",
    "even_number =[]\n",
    "for i in my_list:\n",
    "    if i%2==0:\n",
    "        even_number.append(i)\n",
    "print(even_number)"
   ]
  },
  {
   "cell_type": "code",
   "execution_count": 142,
   "id": "0f38d3ce-8c53-483d-9dd8-6d909245edf1",
   "metadata": {},
   "outputs": [
    {
     "name": "stdout",
     "output_type": "stream",
     "text": [
      "15\n"
     ]
    }
   ],
   "source": [
    "my_list =[1,2,3,4,5]\n",
    "total_sum =0\n",
    "for num in my_list:\n",
    "    total_sum +=num\n",
    "print(total_sum)"
   ]
  },
  {
   "cell_type": "code",
   "execution_count": 144,
   "id": "15d7b607-05d0-4b80-ab08-7dbdb802bbf8",
   "metadata": {},
   "outputs": [
    {
     "name": "stdout",
     "output_type": "stream",
     "text": [
      "24\n"
     ]
    }
   ],
   "source": [
    "my_list=[1,2,3,9,4,5]\n",
    "total_sum =sum(my_list)\n",
    "print(total_sum)\n"
   ]
  },
  {
   "cell_type": "markdown",
   "id": "a92106ed-792b-433d-a255-8ae2120830e5",
   "metadata": {},
   "source": [
    "Sort a list of strings alphabetically\n"
   ]
  },
  {
   "cell_type": "code",
   "execution_count": 149,
   "id": "3b9489b8-073f-4365-a7e8-4d5d6b3d3b88",
   "metadata": {},
   "outputs": [
    {
     "name": "stdout",
     "output_type": "stream",
     "text": [
      "['apple', 'bananana', 'cherry', 'date', 'dates']\n"
     ]
    }
   ],
   "source": [
    "my_list =['cherry','apple','bananana','dates','date']\n",
    "my_list.sort()\n",
    "print(my_list)\n"
   ]
  },
  {
   "cell_type": "code",
   "execution_count": 155,
   "id": "8646c899-cfe4-4bd1-be8b-01770c32d594",
   "metadata": {},
   "outputs": [
    {
     "name": "stdout",
     "output_type": "stream",
     "text": [
      "['banana', 'cherry', 'date', 'mango', 'watermelon']\n"
     ]
    }
   ],
   "source": [
    "my_list =['banana','cherry','mango','date','watermelon']\n",
    "my_list = sorted(my_list)\n",
    "print(my_list)"
   ]
  },
  {
   "cell_type": "code",
   "execution_count": 209,
   "id": "40964570-0fcd-4120-a3fc-4a111fd0e84c",
   "metadata": {},
   "outputs": [
    {
     "name": "stdout",
     "output_type": "stream",
     "text": [
      "5\n",
      "1 goa 4\n",
      "2 goa 4\n",
      "3 goa 4\n",
      "0 banana 3\n",
      "sorted list ['apple', 'banana', 'cherry', 'date', 'goa']\n"
     ]
    }
   ],
   "source": [
    "my_list =['banana','goa','apple','cherry','date']\n",
    "n=len(my_list)\n",
    "print(n)\n",
    "for i in range(n):\n",
    "    # print(my_list[i],i)\n",
    "    for j in range(0,n-i-1):\n",
    "        if my_list[j] > my_list[j+1]:\n",
    "            print(j,my_list[j],n-i-1)\n",
    "            my_list[j],my_list[j+1] = my_list[j+1],my_list[j]\n",
    "print('sorted list',my_list)\n",
    "        "
   ]
  },
  {
   "cell_type": "code",
   "execution_count": 219,
   "id": "1392cdf1-6c0f-4a76-8f48-a2dcba3ca368",
   "metadata": {},
   "outputs": [
    {
     "name": "stdout",
     "output_type": "stream",
     "text": [
      "['grapes', 'goa', 'date', 'cherry', 'banana', 'apple']\n",
      "['grapes', 'goa', 'date', 'cherry', 'banana', 'apple']\n"
     ]
    }
   ],
   "source": [
    "my_list=['apple', 'banana', 'goa','cherry', 'date', 'grapes']\n",
    "\n",
    "my_list.sort(reverse=True)\n",
    "print(my_list)\n",
    "\n",
    "mylist= sorted(my_list,reverse=True)\n",
    "\n",
    "print(mylist)\n"
   ]
  },
  {
   "cell_type": "code",
   "execution_count": 229,
   "id": "e82fa31b-b08b-4257-998c-7991481a406a",
   "metadata": {},
   "outputs": [
    {
     "name": "stdout",
     "output_type": "stream",
     "text": [
      "[40, 30, 20, 10]\n"
     ]
    }
   ],
   "source": [
    "my_list=[10,20,30,40]\n",
    "sorted_list=[]\n",
    "while my_list:\n",
    "    max_valuee=max(my_list)\n",
    "    sorted_list.append(max_valuee)\n",
    "    my_list.remove(max_valuee)\n",
    "print(sorted_list)"
   ]
  },
  {
   "cell_type": "code",
   "execution_count": 233,
   "id": "e51fd30a-84fc-42c0-8b9d-4b1ba07451be",
   "metadata": {},
   "outputs": [
    {
     "name": "stdout",
     "output_type": "stream",
     "text": [
      "[10, 20, 30, 40]\n"
     ]
    }
   ],
   "source": [
    "my_list=[40, 30, 20, 10]\n",
    "sorted_list=[]\n",
    "while my_list:\n",
    "    max_valuee=min(my_list)\n",
    "    sorted_list.append(max_valuee)\n",
    "    my_list.remove(max_valuee)\n",
    "print(sorted_list)"
   ]
  },
  {
   "cell_type": "code",
   "execution_count": 237,
   "id": "d6af7ecf-af86-4dd0-8f9e-52c336c1ed3e",
   "metadata": {},
   "outputs": [
    {
     "name": "stdout",
     "output_type": "stream",
     "text": [
      "the index of 304 is 2\n"
     ]
    }
   ],
   "source": [
    "my_list=[10,20,304,40,44]\n",
    "item=304\n",
    "index=my_list.index(item)\n",
    "print(f'the index of {item} is {index}')"
   ]
  },
  {
   "cell_type": "code",
   "execution_count": 241,
   "id": "c2b025ea-bcd9-4894-85ba-b94c465a37aa",
   "metadata": {},
   "outputs": [
    {
     "name": "stdout",
     "output_type": "stream",
     "text": [
      "40\n",
      "[10, 20, 30]\n"
     ]
    }
   ],
   "source": [
    "my_list=[10,20,30,40]\n",
    "index_to_remove=3\n",
    "index=my_list.pop(index_to_remove)\n",
    "print(index)\n",
    "print(my_list)"
   ]
  },
  {
   "cell_type": "code",
   "execution_count": 247,
   "id": "0d1e5645-239e-41d2-9e47-853d5f7a53c8",
   "metadata": {},
   "outputs": [
    {
     "name": "stdout",
     "output_type": "stream",
     "text": [
      "[1, 4, 9, 16, 25, 36, 49]\n"
     ]
    }
   ],
   "source": [
    "numbers=[1,2,3,4,5,6,7]\n",
    "x=[]\n",
    "for i in numbers:\n",
    "    x.append(i*i)\n",
    "print(x)"
   ]
  },
  {
   "cell_type": "code",
   "execution_count": 251,
   "id": "5dca1a61-940a-4871-977a-5eb59dafb670",
   "metadata": {},
   "outputs": [
    {
     "name": "stdout",
     "output_type": "stream",
     "text": [
      "[1, 2, 3, 6, 7, 8]\n"
     ]
    }
   ],
   "source": [
    "list1=[1,2,3,4,5]\n",
    "list2=[4,5,6,7,8]\n",
    "merged_list=[]\n",
    "for item in list1:\n",
    "    if item not in list2:\n",
    "        merged_list.append(item)\n",
    "for item in list2:\n",
    "    if item not in list1:\n",
    "        merged_list.append(item)\n",
    "print(merged_list)"
   ]
  },
  {
   "cell_type": "code",
   "execution_count": 253,
   "id": "083a1ae2-b340-4741-902e-dc98a1e63c65",
   "metadata": {},
   "outputs": [
    {
     "name": "stdout",
     "output_type": "stream",
     "text": [
      "[1, 2, 3, 6, 7, 8]\n"
     ]
    }
   ],
   "source": [
    "list1=[1,2,3,4,5]\n",
    "list2=[4,5,6,7,8]\n",
    "mergerd_list=list(set(list1)^set(list2))\n",
    "print(mergerd_list)"
   ]
  },
  {
   "cell_type": "code",
   "execution_count": 255,
   "id": "cccf6964-adb8-4789-9fa7-41c418f03ec4",
   "metadata": {},
   "outputs": [
    {
     "name": "stdout",
     "output_type": "stream",
     "text": [
      "['vijay', 'apple', 'banana', 'grape']\n"
     ]
    }
   ],
   "source": [
    "my_list=['vijay','apple','dog','banana','cat','grape','kiwi']\n",
    "filtered_list =[]\n",
    "for item in my_list:\n",
    "    if len(item)>=5:\n",
    "        filtered_list.append(item)\n",
    "print(filtered_list)"
   ]
  },
  {
   "cell_type": "code",
   "execution_count": 261,
   "id": "cc5345f8-583e-48f6-86b1-8e137153989c",
   "metadata": {},
   "outputs": [
    {
     "name": "stdout",
     "output_type": "stream",
     "text": [
      "3\n",
      "[1, 4, 7]\n",
      "[2, 5, 8]\n",
      "[3, 6, 9]\n"
     ]
    }
   ],
   "source": [
    "matrix = [\n",
    "    [1, 2, 3],\n",
    "    [4, 5, 6],\n",
    "    [7, 8, 9]\n",
    "]\n",
    "print(len(matrix[0]))\n",
    "\n",
    "transposed_matrix = []\n",
    "\n",
    "# Loop through each column index\n",
    "for col in range(len(matrix[0])):\n",
    "    # Create a new row for the transposed matrix\n",
    "    new_row = []\n",
    "    # Loop through each row in the original matrix\n",
    "    for row in matrix:\n",
    "        new_row.append(row[col])  # Append the element from each row at the current column\n",
    "    transposed_matrix.append(new_row)  # Add the new row to the transposed matrix\n",
    "\n",
    "# Print the transposed matrix\n",
    "for row in transposed_matrix:\n",
    "    print(row)"
   ]
  },
  {
   "cell_type": "code",
   "execution_count": null,
   "id": "fb35be82-e9ab-4177-b9f1-da3c551dac6c",
   "metadata": {},
   "outputs": [],
   "source": []
  }
 ],
 "metadata": {
  "kernelspec": {
   "display_name": "Python [conda env:base] *",
   "language": "python",
   "name": "conda-base-py"
  },
  "language_info": {
   "codemirror_mode": {
    "name": "ipython",
    "version": 3
   },
   "file_extension": ".py",
   "mimetype": "text/x-python",
   "name": "python",
   "nbconvert_exporter": "python",
   "pygments_lexer": "ipython3",
   "version": "3.12.7"
  }
 },
 "nbformat": 4,
 "nbformat_minor": 5
}
