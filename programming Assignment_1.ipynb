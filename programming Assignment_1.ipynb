{
 "cells": [
  {
   "cell_type": "markdown",
   "id": "c2173283-8913-46e0-82f8-56c32a325a8e",
   "metadata": {},
   "source": [
    "Write a Python program to print \"Hello Python\"?"
   ]
  },
  {
   "cell_type": "code",
   "execution_count": 2,
   "id": "18bd0fe7-e80c-47b5-877e-795026b1b45a",
   "metadata": {},
   "outputs": [
    {
     "name": "stdout",
     "output_type": "stream",
     "text": [
      "Hello Python\n"
     ]
    }
   ],
   "source": [
    "print('Hello Python')"
   ]
  },
  {
   "cell_type": "markdown",
   "id": "486b19bc-3302-446a-9f75-9d487b0cd306",
   "metadata": {},
   "source": [
    "Write a Python program to do arithmetical operations addition and division.?\n"
   ]
  },
  {
   "cell_type": "code",
   "execution_count": 15,
   "id": "f62fe9cb-a0bd-4331-bdf8-f0e07a0433a5",
   "metadata": {},
   "outputs": [
    {
     "name": "stdout",
     "output_type": "stream",
     "text": [
      "Addition Result: 15\n"
     ]
    }
   ],
   "source": [
    "# Addition\n",
    "a=10\n",
    "b=5 \n",
    "result=a+b\n",
    "print(\"Addition Result:\",result)\n"
   ]
  },
  {
   "cell_type": "code",
   "execution_count": 13,
   "id": "9ff0bea3-9b8c-4d6b-9b5e-354be6a730e5",
   "metadata": {},
   "outputs": [
    {
     "name": "stdout",
     "output_type": "stream",
     "text": [
      "Division Result: 2.0\n"
     ]
    }
   ],
   "source": [
    "# Division\n",
    "a = 10\n",
    "b = 5\n",
    "result = a / b\n",
    "print(\"Division Result:\", result)"
   ]
  },
  {
   "cell_type": "markdown",
   "id": "bdcc5056-dc2a-49d9-aea8-542e672e7b54",
   "metadata": {},
   "source": [
    "Write a Python program to find the area of a triangle?\n"
   ]
  },
  {
   "cell_type": "code",
   "execution_count": 24,
   "id": "4a6264a4-1c81-467d-8bef-9b9fb323c0cc",
   "metadata": {},
   "outputs": [
    {
     "name": "stdout",
     "output_type": "stream",
     "text": [
      "Area of a triangle 25.0\n"
     ]
    }
   ],
   "source": [
    "base=10\n",
    "height=5\n",
    "result=0.5*base*height\n",
    "print('Area of a triangle',result)"
   ]
  },
  {
   "cell_type": "markdown",
   "id": "37bcf468-9d54-4179-ac66-86260a02aa88",
   "metadata": {},
   "source": [
    "Write a Python program to swap two variables?"
   ]
  },
  {
   "cell_type": "code",
   "execution_count": 31,
   "id": "031b85f1-4001-42b5-b20f-949c69eba427",
   "metadata": {},
   "outputs": [
    {
     "name": "stdout",
     "output_type": "stream",
     "text": [
      "before swap a=10 b=5\n",
      "after swap a=5 b=10\n"
     ]
    }
   ],
   "source": [
    "a=10\n",
    "b=5\n",
    "print(f\"before swap a={a} b={b}\")\n",
    "temp=a\n",
    "a=b\n",
    "b=temp\n",
    "print(f\"after swap a={a} b={b}\")\n"
   ]
  },
  {
   "cell_type": "markdown",
   "id": "f08977ce-f45e-4335-b6ec-88be97d5bbad",
   "metadata": {},
   "source": [
    "Write a Python program to generate a random number?"
   ]
  },
  {
   "cell_type": "code",
   "execution_count": 44,
   "id": "7bc36bee-0288-4a91-8ad2-6dfad765c3cc",
   "metadata": {},
   "outputs": [
    {
     "name": "stdout",
     "output_type": "stream",
     "text": [
      "random number generate 78\n"
     ]
    }
   ],
   "source": [
    "import random \n",
    "print('random number generate',random.randint(1,100))"
   ]
  },
  {
   "cell_type": "code",
   "execution_count": null,
   "id": "defd70cf-8752-4f26-9852-eba985a6f0f2",
   "metadata": {},
   "outputs": [],
   "source": []
  }
 ],
 "metadata": {
  "kernelspec": {
   "display_name": "Python [conda env:base] *",
   "language": "python",
   "name": "conda-base-py"
  },
  "language_info": {
   "codemirror_mode": {
    "name": "ipython",
    "version": 3
   },
   "file_extension": ".py",
   "mimetype": "text/x-python",
   "name": "python",
   "nbconvert_exporter": "python",
   "pygments_lexer": "ipython3",
   "version": "3.12.7"
  }
 },
 "nbformat": 4,
 "nbformat_minor": 5
}
