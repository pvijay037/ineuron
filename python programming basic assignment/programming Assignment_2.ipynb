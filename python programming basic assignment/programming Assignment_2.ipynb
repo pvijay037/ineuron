{
 "cells": [
  {
   "cell_type": "markdown",
   "id": "23d25d9f-9298-42e7-8851-ed9779e11d2d",
   "metadata": {},
   "source": [
    "Write a Python program to convert kilometers to miles?"
   ]
  },
  {
   "cell_type": "code",
   "execution_count": 4,
   "id": "5394ec8a-f268-43d8-aa7d-77cceb11ad41",
   "metadata": {},
   "outputs": [
    {
     "name": "stdout",
     "output_type": "stream",
     "text": [
      "kilometers to miles 6.21371\n"
     ]
    }
   ],
   "source": [
    "km=10\n",
    "miles = km * 0.621371\n",
    "print(\"kilometers to miles\",miles)"
   ]
  },
  {
   "cell_type": "markdown",
   "id": "97fe0bf4-9268-40c8-bd22-0e9ec9c6ea3e",
   "metadata": {},
   "source": [
    "Write a Python program to convert Celsius to Fahrenheit?\n"
   ]
  },
  {
   "cell_type": "code",
   "execution_count": 7,
   "id": "1661ea6e-ebaf-4db0-837f-22176522db19",
   "metadata": {},
   "outputs": [
    {
     "name": "stdout",
     "output_type": "stream",
     "text": [
      "Celsius to Fahrenheit 77.0\n"
     ]
    }
   ],
   "source": [
    "celsius=25\n",
    "fahrenheit = (celsius * 9/5) + 32\n",
    "print('Celsius to Fahrenheit',fahrenheit)"
   ]
  },
  {
   "cell_type": "markdown",
   "id": "54ffb79a-2f6b-4f76-b4ca-adf12a28d250",
   "metadata": {},
   "source": [
    "Write a Python program to display calendar?"
   ]
  },
  {
   "cell_type": "code",
   "execution_count": 14,
   "id": "897c1416-abff-4d20-8433-c94b2e0d4e36",
   "metadata": {},
   "outputs": [
    {
     "name": "stdout",
     "output_type": "stream",
     "text": [
      "calender    February 2025\n",
      "Mo Tu We Th Fr Sa Su\n",
      "                1  2\n",
      " 3  4  5  6  7  8  9\n",
      "10 11 12 13 14 15 16\n",
      "17 18 19 20 21 22 23\n",
      "24 25 26 27 28\n",
      "\n"
     ]
    }
   ],
   "source": [
    "import calendar\n",
    "\n",
    "year = 2025\n",
    "month = 2\n",
    "\n",
    "print('calender',calendar.month(year, month))"
   ]
  },
  {
   "cell_type": "markdown",
   "id": "7ae55206-928e-46c0-8694-d9b6cd54b27b",
   "metadata": {},
   "source": [
    "Write a Python program to solve quadratic equation?"
   ]
  },
  {
   "cell_type": "code",
   "execution_count": 54,
   "id": "717aacef-b18c-467c-8353-d9957af38943",
   "metadata": {},
   "outputs": [
    {
     "name": "stdout",
     "output_type": "stream",
     "text": [
      "The solution is -1.0\n"
     ]
    }
   ],
   "source": [
    "import math\n",
    "\n",
    "a = 1\n",
    "b = 2\n",
    "c = 1\n",
    "\n",
    "D = b**2 - 4*a*c\n",
    "\n",
    "if D > 0:\n",
    "    # Two real solutions\n",
    "    sol1 = (-b + math.sqrt(D)) / (2 * a)\n",
    "    sol2 = (-b - math.sqrt(D)) / (2 * a)\n",
    "    print(f\"The solutions are {sol1} and {sol2}\")\n",
    "elif D == 0:\n",
    "    sol = -b / (2 * a)\n",
    "    print(f\"The solution is {sol}\")\n",
    "else:\n",
    "    real_part = -b / (2 * a)\n",
    "    imaginary_part = math.sqrt(-D) / (2 * a)\n",
    "    sol1 = complex(real_part, imaginary_part)\n",
    "    sol2 = complex(real_part, -imaginary_part)\n",
    "    print(f\"The solutions are {sol1} and {sol2}\")\n"
   ]
  },
  {
   "cell_type": "markdown",
   "id": "1a22ae2c-6a5b-49ad-8ef7-cafb3849212b",
   "metadata": {},
   "source": [
    "Write a Python program to swap two variables without temp variable?"
   ]
  },
  {
   "cell_type": "code",
   "execution_count": 18,
   "id": "715f6f6f-f8aa-499c-8376-78b67dffff23",
   "metadata": {},
   "outputs": [
    {
     "name": "stdout",
     "output_type": "stream",
     "text": [
      "before swap a=5 b=10\n",
      "after swap a=10 b=5\n"
     ]
    }
   ],
   "source": [
    "a=5\n",
    "b=10\n",
    "print(f\"before swap a={a} b={b}\") \n",
    "a,b=b,a\n",
    "print(f\"after swap a={a} b={b}\")"
   ]
  }
 ],
 "metadata": {
  "kernelspec": {
   "display_name": "Python [conda env:base] *",
   "language": "python",
   "name": "conda-base-py"
  },
  "language_info": {
   "codemirror_mode": {
    "name": "ipython",
    "version": 3
   },
   "file_extension": ".py",
   "mimetype": "text/x-python",
   "name": "python",
   "nbconvert_exporter": "python",
   "pygments_lexer": "ipython3",
   "version": "3.12.7"
  }
 },
 "nbformat": 4,
 "nbformat_minor": 5
}
